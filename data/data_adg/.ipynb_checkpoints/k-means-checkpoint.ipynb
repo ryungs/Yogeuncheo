{
 "cells": [
  {
   "cell_type": "code",
   "execution_count": 1,
   "metadata": {},
   "outputs": [
    {
     "ename": "ImportError",
     "evalue": "No module named 'seaborn'",
     "output_type": "error",
     "traceback": [
      "\u001b[1;31m---------------------------------------------------------------------------\u001b[0m",
      "\u001b[1;31mImportError\u001b[0m                               Traceback (most recent call last)",
      "\u001b[1;32m<ipython-input-1-9f13c3b25264>\u001b[0m in \u001b[0;36m<module>\u001b[1;34m\u001b[0m\n\u001b[0;32m      1\u001b[0m \u001b[1;32mimport\u001b[0m \u001b[0mnumpy\u001b[0m \u001b[1;32mas\u001b[0m \u001b[0mnp\u001b[0m\u001b[1;33m\u001b[0m\u001b[0m\n\u001b[0;32m      2\u001b[0m \u001b[1;32mimport\u001b[0m \u001b[0mpandas\u001b[0m \u001b[1;32mas\u001b[0m \u001b[0mpd\u001b[0m\u001b[1;33m\u001b[0m\u001b[0m\n\u001b[1;32m----> 3\u001b[1;33m \u001b[1;32mimport\u001b[0m \u001b[0mseaborn\u001b[0m \u001b[1;32mas\u001b[0m \u001b[0msns\u001b[0m\u001b[1;33m\u001b[0m\u001b[0m\n\u001b[0m\u001b[0;32m      4\u001b[0m \u001b[1;32mimport\u001b[0m \u001b[0mmatplotlib\u001b[0m\u001b[1;33m.\u001b[0m\u001b[0mpyplot\u001b[0m \u001b[1;32mas\u001b[0m \u001b[0mplt\u001b[0m\u001b[1;33m\u001b[0m\u001b[0m\n\u001b[0;32m      5\u001b[0m \u001b[1;32mfrom\u001b[0m \u001b[0mipywidgets\u001b[0m \u001b[1;32mimport\u001b[0m \u001b[0minteract\u001b[0m\u001b[1;33m\u001b[0m\u001b[0m\n",
      "\u001b[1;31mImportError\u001b[0m: No module named 'seaborn'"
     ]
    }
   ],
   "source": [
    "import numpy as np\n",
    "import pandas as pd\n",
    "import seaborn as sns\n",
    "import matplotlib.pyplot as plt\n",
    "from ipywidgets import interact\n",
    "import scipy\n",
    "from numpy import dot\n",
    "from numpy.linalg import norm\n",
    "\n",
    "from sklearn.metrics.pairwise import cosine_similarity\n",
    "from sklearn import preprocessing\n",
    "from sklearn.cluster import KMeans\n",
    "from sklearn.metrics import silhouette_score"
   ]
  },
  {
   "cell_type": "code",
   "execution_count": null,
   "metadata": {
    "scrolled": false
   },
   "outputs": [],
   "source": [
    "base_data = pd.read_csv('./최종 결과.txt', sep=\",\")\n",
    "base_data"
   ]
  },
  {
   "cell_type": "code",
   "execution_count": null,
   "metadata": {
    "scrolled": true
   },
   "outputs": [],
   "source": [
    "feature = base_data[['mac_score','lot_score','burgerking_score','starbucks_score','cu_score','gs25_score','seveneleven_score','lottecinema_score','megabox_score','cgv_score','total_score','high_oil', 'oil', 'oil2','total', 'catch', 'percent', 'mac_count','lot_count','burgerking_count','seveneleven_count','cu_count','gs25_count','starbucks_count','lottecinema_count','megabox_count','cgv_count','total_count']]\n",
    "feature\n",
    "# model = KMeans(n_clusters=15, algorithm='auto')\n",
    "# model.fit(feature)\n",
    "# predict = pd.DataFrame(model.predict(feature))\n",
    "# predict.columns=['predict']\n",
    "\n",
    "# predict"
   ]
  },
  {
   "cell_type": "code",
   "execution_count": null,
   "metadata": {},
   "outputs": [],
   "source": [
    "feature_cos_sim = cosine_similarity(feature)"
   ]
  },
  {
   "cell_type": "code",
   "execution_count": null,
   "metadata": {},
   "outputs": [],
   "source": [
    "rounded_test_data_cos_sim = pd.DataFrame(feature_cos_sim, index=feature.index, columns=feature.index).apply(lambda x: round(x, 2))"
   ]
  },
  {
   "cell_type": "code",
   "execution_count": null,
   "metadata": {
    "scrolled": true
   },
   "outputs": [],
   "source": [
    "rounded_test_data_cos_sim"
   ]
  },
  {
   "cell_type": "code",
   "execution_count": null,
   "metadata": {},
   "outputs": [],
   "source": [
    "address = pd.read_csv('../data_gdr/1-2. 서울 법정동 주소목록(최종).txt', sep=\",\")"
   ]
  },
  {
   "cell_type": "code",
   "execution_count": null,
   "metadata": {
    "scrolled": true
   },
   "outputs": [],
   "source": [
    "address[\"gu\"] = address.apply(lambda x:x[\"법정동명\"].split()[1] if len(x[\"법정동명\"].split())==3 else \"\",axis=1)\n",
    "address[\"dong\"] = address.apply(lambda x:x[\"법정동명\"].split()[2] if len(x[\"법정동명\"].split())==3 else \"\",axis=1)\n",
    "address"
   ]
  },
  {
   "cell_type": "code",
   "execution_count": null,
   "metadata": {},
   "outputs": [],
   "source": [
    "address['법정동명'][2]"
   ]
  },
  {
   "cell_type": "code",
   "execution_count": null,
   "metadata": {},
   "outputs": [],
   "source": [
    "import random\n",
    "res = pd.DataFrame(columns=('first', 'second', 'third'))\n",
    "res\n",
    "for i in range(len(rounded_test_data_cos_sim)):\n",
    "#     print(rounded_test_data_cos_sim[i])\n",
    "    arr = []\n",
    "    for j in range(len(rounded_test_data_cos_sim[i])):\n",
    "        if i != j and rounded_test_data_cos_sim[i][j] >= 0.9:\n",
    "            arr.append([rounded_test_data_cos_sim[i][j], address['법정동명'][j]])\n",
    "#     print(sorted(arr, key=lambda x: x[0], reverse=True)[:3])\n",
    "    random.shuffle(arr)\n",
    "    if arr:\n",
    "        res.loc[i] = arr[:3]\n",
    "#         if len(arr)>=3:\n",
    "#             res.loc[i] = [arr[0][1],arr[1][1],arr[2][1]]\n",
    "#         elif len(arr) == 2:\n",
    "#             res.loc[i] = [arr[0][1],arr[1][1],None]\n",
    "#         elif len(arr) == 1:\n",
    "#             res.loc[i] = [arr[0][1],None,None]\n",
    "    else:\n",
    "        res.loc[i] = [None,None,None]\n",
    "#     print(arr[:3])\n",
    "#     if arr:\n",
    "#         if arr[0]:\n",
    "#             res['first'] = arr[0]\n",
    "#         if len(arr)>=2:\n",
    "#             res['second'] = arr[1]\n",
    "#         else:\n",
    "#             res['second'] = None\n",
    "#         if len(arr)>=3:\n",
    "#             res['third'] = arr[2]\n",
    "#         else:\n",
    "#             res['third'] = None\n",
    "#     else:\n",
    "#         res['first'] = None\n",
    "#         res['second'] = None\n",
    "#         res['third'] = None\n",
    "#     print()\n",
    "res"
   ]
  },
  {
   "cell_type": "code",
   "execution_count": null,
   "metadata": {},
   "outputs": [],
   "source": [
    "# predict.to_csv(\"kmeans.txt\", mode=\"w\")\n",
    "# final = pd.concat([address, res], axis=1)\n",
    "# final"
   ]
  },
  {
   "cell_type": "code",
   "execution_count": null,
   "metadata": {},
   "outputs": [],
   "source": [
    "last = pd."
   ]
  },
  {
   "cell_type": "code",
   "execution_count": null,
   "metadata": {
    "scrolled": false
   },
   "outputs": [],
   "source": [
    "address"
   ]
  },
  {
   "cell_type": "code",
   "execution_count": null,
   "metadata": {},
   "outputs": [],
   "source": [
    "address.columns = [\"first\"]"
   ]
  },
  {
   "cell_type": "code",
   "execution_count": null,
   "metadata": {},
   "outputs": [],
   "source": [
    "last = pd.concat([base_data,res], axis=1)"
   ]
  },
  {
   "cell_type": "code",
   "execution_count": null,
   "metadata": {},
   "outputs": [],
   "source": [
    "last"
   ]
  },
  {
   "cell_type": "code",
   "execution_count": null,
   "metadata": {},
   "outputs": [],
   "source": [
    "# predict.to_csv(\"kmeans.txt\", mode=\"w\")\n",
    "last.to_csv(\"last_data.\")"
   ]
  },
  {
   "cell_type": "code",
   "execution_count": null,
   "metadata": {},
   "outputs": [],
   "source": [
    "# r = pd.concat([address, predict], axis=1)"
   ]
  },
  {
   "cell_type": "code",
   "execution_count": null,
   "metadata": {
    "scrolled": true
   },
   "outputs": [],
   "source": [
    "# r"
   ]
  },
  {
   "cell_type": "code",
   "execution_count": null,
   "metadata": {},
   "outputs": [],
   "source": [
    "# numbering = r[\"법정동명\"].groupby([r[\"predict\"]])"
   ]
  },
  {
   "cell_type": "code",
   "execution_count": null,
   "metadata": {},
   "outputs": [],
   "source": [
    "# grouped = r['법정동명'].groupby(r['predict'])"
   ]
  },
  {
   "cell_type": "code",
   "execution_count": null,
   "metadata": {},
   "outputs": [],
   "source": [
    "# grouped.count()"
   ]
  },
  {
   "cell_type": "code",
   "execution_count": null,
   "metadata": {},
   "outputs": [],
   "source": [
    "# arr = []\n",
    "# for i in range(len(r)):\n",
    "#     print(r['predict'][i])"
   ]
  }
 ],
 "metadata": {
  "kernelspec": {
   "display_name": "Python 3",
   "language": "python",
   "name": "python3"
  },
  "language_info": {
   "codemirror_mode": {
    "name": "ipython",
    "version": 3
   },
   "file_extension": ".py",
   "mimetype": "text/x-python",
   "name": "python",
   "nbconvert_exporter": "python",
   "pygments_lexer": "ipython3",
   "version": "3.5.3"
  }
 },
 "nbformat": 4,
 "nbformat_minor": 2
}
