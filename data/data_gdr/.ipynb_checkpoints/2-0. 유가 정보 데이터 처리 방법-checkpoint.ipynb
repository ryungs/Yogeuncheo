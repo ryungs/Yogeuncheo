{
 "cells": [
  {
   "cell_type": "markdown",
   "metadata": {},
   "source": [
    "# 유가 정보 데이터 처리 방법\n",
    "\n",
    "국내유가 - 한국석유공사 오피넷\n",
    "\n",
    "http://www.opinet.co.kr/user/main/mainView.do 에 접속합니다.\n",
    "\n",
    "오른쪽 하단에 유가 정보 내려받기를 클릭합니다."
   ]
  },
  {
   "cell_type": "markdown",
   "metadata": {},
   "source": [
    "<img src=\"1.png\">"
   ]
  },
  {
   "cell_type": "markdown",
   "metadata": {},
   "source": [
    "## 유가 정보 기준\n",
    "\n",
    "주유소 / 주간 / 10월 3주차 / 서울 지역 기준으로 데이터를 다운 받습니다"
   ]
  },
  {
   "cell_type": "markdown",
   "metadata": {},
   "source": [
    "<img src=\"2.png\">"
   ]
  },
  {
   "cell_type": "markdown",
   "metadata": {},
   "source": [
    "## 유가 데이터 가공해야 하는 부분\n",
    "\n",
    "> 해당 데이터는 2-1. 유가 정보 10월 3주차에 저장되어 있습니다\n",
    "\n",
    "1. 현재 유가 데이터의 주소는 신주소로 나와 있기 때문에 구주소인 동으로 구분해야 합니다\n",
    "\n",
    "2. 셀프 주유소의 경유 가격 정보가 나오지 않은 경우도 구분이 필요합니다"
   ]
  },
  {
   "cell_type": "markdown",
   "metadata": {},
   "source": [
    "<img src=\"3.png\">"
   ]
  }
 ],
 "metadata": {
  "kernelspec": {
   "display_name": "Python 3",
   "language": "python",
   "name": "python3"
  },
  "language_info": {
   "codemirror_mode": {
    "name": "ipython",
    "version": 3
   },
   "file_extension": ".py",
   "mimetype": "text/x-python",
   "name": "python",
   "nbconvert_exporter": "python",
   "pygments_lexer": "ipython3",
   "version": "3.5.3"
  }
 },
 "nbformat": 4,
 "nbformat_minor": 2
}
