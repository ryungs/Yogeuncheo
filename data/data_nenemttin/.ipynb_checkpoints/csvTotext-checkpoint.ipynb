{
 "cells": [
  {
   "cell_type": "code",
   "execution_count": null,
   "metadata": {},
   "outputs": [],
   "source": [
    "import csv\n",
    "\n",
    "txt_file = '서울시구별범죄현황.txt'\n",
    "with open(txt_file, \"w\") as my_output_file:\n",
    "    with open('서울시구별범죄현황.csv', \"r\") as my_input_file:\n",
    "        for row in csv.reader(my_input_file):\n",
    "            info = row[:3]\n",
    "            arrest_rate = round((int(row[2])/int(row[1])) * 100, 1)\n",
    "            info.append(str(arrest_rate))\n",
    "            print(info)\n",
    "            my_output_file.write(' '.join(info)+'\\n')\n",
    "    my_output_file.close()\n"
   ]
  }
 ],
 "metadata": {
  "kernelspec": {
   "display_name": "Python 3",
   "language": "python",
   "name": "python3"
  },
  "language_info": {
   "codemirror_mode": {
    "name": "ipython",
    "version": 3
   },
   "file_extension": ".py",
   "mimetype": "text/x-python",
   "name": "python",
   "nbconvert_exporter": "python",
   "pygments_lexer": "ipython3",
   "version": "3.6.8"
  }
 },
 "nbformat": 4,
 "nbformat_minor": 2
}
